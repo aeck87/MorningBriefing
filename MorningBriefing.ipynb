{
 "cells": [
  {
   "cell_type": "code",
   "execution_count": 25,
   "metadata": {},
   "outputs": [],
   "source": [
    "from __future__ import print_function\n",
    "import datetime\n",
    "import logging\n",
    "import time\n",
    "import sys\n",
    "import json\n",
    "import pickle\n",
    "import requests\n",
    "import os.path\n",
    "from googleapiclient.discovery import build\n",
    "from google_auth_oauthlib.flow import InstalledAppFlow\n",
    "from google.auth.transport.requests import Request\n",
    "from google.oauth2.credentials import Credentials\n",
    "import google.generativeai as genai\n",
    "import os\n",
    "from dotenv import load_dotenv\n"
   ]
  },
  {
   "cell_type": "code",
   "execution_count": 23,
   "metadata": {},
   "outputs": [
    {
     "data": {
      "text/plain": [
       "True"
      ]
     },
     "execution_count": 23,
     "metadata": {},
     "output_type": "execute_result"
    }
   ],
   "source": [
    "load_dotenv()"
   ]
  },
  {
   "cell_type": "code",
   "execution_count": 5,
   "metadata": {},
   "outputs": [],
   "source": [
    "credentials_filename = os.getenv(\"CREDENTIALS_FILENAME\")\n",
    "\n",
    "# If modifying these scopes, delete the file token.pickle.\n",
    "SCOPES = ['https://www.googleapis.com/auth/calendar.readonly', 'https://www.googleapis.com/auth/tasks.readonly']"
   ]
  },
  {
   "cell_type": "code",
   "execution_count": 19,
   "metadata": {},
   "outputs": [
    {
     "name": "stdout",
     "output_type": "stream",
     "text": [
      "Please visit this URL to authorize this application: https://accounts.google.com/o/oauth2/auth?response_type=code&client_id=724512296135-tj23hoc02avrq39dv0muap45g4eoi2dg.apps.googleusercontent.com&redirect_uri=http%3A%2F%2Flocalhost%3A8080%2F&scope=https%3A%2F%2Fwww.googleapis.com%2Fauth%2Fcalendar.readonly+https%3A%2F%2Fwww.googleapis.com%2Fauth%2Ftasks.readonly&state=qfBrXCQDSoABl3nSzsNr90hCPuop2t&access_type=offline&prompt=consent\n",
      "Access Token: ya29.a0AXeO80S-7oljUddE5F5Qd9Jco5iR3fvVtdkfctc8JAmNOSLpUQxsAU_IZh5ibnjg-GQ-M3KRRt0Dd7TMlskc9y2PvdAscOsyf3yfEJQZy8bYzgK55uTuRPmEounKDAtpaP4rdVb-eyZuOuoyMeq4yx1J9uJi8Hvu3CP4s5lAaCgYKAdYSARMSFQHGX2Mi_xuVO0LpSlISYIaE-T_Z1Q0175\n",
      "Refresh Token: 1//09KNybr9k3kbaCgYIARAAGAkSNgF-L9Irt58X2LjtpZKOs5bzOWbhXVfporXNohuMKcoSLjD33lSnRI-z3DdV8L2vB7WqZ7Dk7A\n"
     ]
    }
   ],
   "source": [
    "# get refresh token\n",
    "\n",
    "def get_refresh_token():\n",
    "    flow = InstalledAppFlow.from_client_secrets_file(\n",
    "        credentials_filename,  # The downloaded JSON from Google Cloud\n",
    "        SCOPES\n",
    "    )\n",
    "    creds = flow.run_local_server(port=8080, access_type='offline', prompt='consent')\n",
    "\n",
    "    print(\"Access Token:\", creds.token)\n",
    "    print(\"Refresh Token:\", creds.refresh_token)\n",
    "\n",
    "get_refresh_token()"
   ]
  },
  {
   "cell_type": "code",
   "execution_count": 6,
   "metadata": {},
   "outputs": [],
   "source": [
    "def getCredsWithFile(credentials_filename):\n",
    "    creds = None\n",
    "    # The file token.pickle stores the user's access and refresh tokens, and is\n",
    "    # created automatically when the authorization flow completes for the first\n",
    "    # time.\n",
    "    if os.path.exists('token.pickle'):\n",
    "        with open('token.pickle', 'rb') as token:\n",
    "            creds = pickle.load(token)\n",
    "    # If there are no (valid) credentials available, let the user log in.\n",
    "    if not creds or not creds.valid:\n",
    "        if creds and creds.expired and creds.refresh_token:\n",
    "            creds.refresh(Request())\n",
    "        else:\n",
    "            flow = InstalledAppFlow.from_client_secrets_file(\n",
    "                credentials_filename, SCOPES)\n",
    "            creds = flow.run_local_server(port=0)\n",
    "        # Save the credentials for the next run\n",
    "        with open('token.pickle', 'wb') as token:\n",
    "            pickle.dump(creds, token)\n",
    "    return creds"
   ]
  },
  {
   "cell_type": "code",
   "execution_count": 20,
   "metadata": {},
   "outputs": [],
   "source": [
    "def getCreds():\n",
    "    # Load credentials from environment variables\n",
    "    client_id = os.environ.get('GOOGLE_CLIENT_ID')\n",
    "    client_secret = os.environ.get('GOOGLE_CLIENT_SECRET')\n",
    "    refresh_token = os.environ.get('GOOGLE_REFRESH_TOKEN')\n",
    "\n",
    "    if not all([client_id, client_secret, refresh_token]):\n",
    "        raise ValueError(\"Missing Google API credentials in environment variables\")\n",
    "\n",
    "    creds_data = {\n",
    "        \"token\": None,\n",
    "        \"refresh_token\": refresh_token,\n",
    "        \"token_uri\": \"https://oauth2.googleapis.com/token\",\n",
    "        \"client_id\": client_id,\n",
    "        \"client_secret\": client_secret,\n",
    "        \"scopes\": SCOPES,\n",
    "    }\n",
    "\n",
    "    creds = Credentials.from_authorized_user_info(info=creds_data)\n",
    "\n",
    "    if not creds.valid:\n",
    "        if creds.expired and creds.refresh_token:\n",
    "            creds.refresh(Request())\n",
    "        else:\n",
    "            raise ValueError(\"Unable to refresh credentials\")\n",
    "\n",
    "    return creds"
   ]
  },
  {
   "cell_type": "code",
   "execution_count": 7,
   "metadata": {},
   "outputs": [],
   "source": [
    "def connect_to_cal(creds):\n",
    "    service = build('calendar', 'v3', credentials=creds)\n",
    "    return service"
   ]
  },
  {
   "cell_type": "code",
   "execution_count": 8,
   "metadata": {},
   "outputs": [],
   "source": [
    "def connect_to_tasks(creds):\n",
    "    service = build('tasks', 'v1', credentials=creds)\n",
    "    return service"
   ]
  },
  {
   "cell_type": "code",
   "execution_count": null,
   "metadata": {},
   "outputs": [
    {
     "name": "stderr",
     "output_type": "stream",
     "text": [
      "C:\\Users\\alexa\\AppData\\Local\\Temp\\ipykernel_948\\1048224468.py:2: DeprecationWarning: datetime.datetime.utcnow() is deprecated and scheduled for removal in a future version. Use timezone-aware objects to represent datetimes in UTC: datetime.datetime.now(datetime.UTC).\n",
      "  now = datetime.datetime.utcnow().isoformat() + 'Z' # 'Z' indicates UTC time\n",
      "C:\\Users\\alexa\\AppData\\Local\\Temp\\ipykernel_948\\1048224468.py:3: DeprecationWarning: datetime.datetime.utcnow() is deprecated and scheduled for removal in a future version. Use timezone-aware objects to represent datetimes in UTC: datetime.datetime.now(datetime.UTC).\n",
      "  now_plus = (datetime.datetime.utcnow() + datetime.timedelta(days=20)).isoformat() + 'Z' # 'Z' indicates UTC time\n"
     ]
    }
   ],
   "source": [
    "# get credentials\n",
    "creds = getCreds()\n",
    "\n",
    "# query calendar\n",
    "service_cal = connect_to_cal(creds)\n",
    "now = datetime.datetime.utcnow().isoformat() + 'Z' # 'Z' indicates UTC time\n",
    "now_plus = (datetime.datetime.utcnow() + datetime.timedelta(days=20)).isoformat() + 'Z' # 'Z' indicates UTC time\n",
    "events = service_cal.events().list(calendarId=os.getenv(\"CALENDAR_ID\"), timeMin=now, timeMax=now_plus,\n",
    "                                                  singleEvents=True,\n",
    "                                                  orderBy='startTime').execute().get('items', [])\n",
    "\n",
    "# query tasks\n",
    "service_tasks = connect_to_tasks(creds)\n",
    "tasklists = service_tasks.tasklists().list().execute()\n",
    "items = tasklists.get('items', [])\n",
    "tasks_response = service_tasks.tasks().list(tasklist=os.getenv(\"TASKLIST\")).execute()\n",
    "tasks = tasks_response.get('items', [])"
   ]
  },
  {
   "cell_type": "code",
   "execution_count": 33,
   "metadata": {},
   "outputs": [],
   "source": [
    "GeminiApiKey = os.getenv(\"GEMINI_API_KEY\")\n",
    "genai.configure(api_key=GeminiApiKey)\n",
    "model = genai.GenerativeModel('gemini-1.5-flash')"
   ]
  },
  {
   "cell_type": "code",
   "execution_count": 34,
   "metadata": {},
   "outputs": [],
   "source": [
    "today_str = datetime.date.today().strftime(\"%Y-%m-%d\")\n",
    "\n",
    "promt = f\"\"\"\n",
    "Here are the google calendar api response and google tasks. \n",
    "Give me summary for my next 3 days including today and how I should prepare. \n",
    "Also consider tasks without a date as always relevant.\n",
    "Today is {today_str} and I am living in Berlin and I am working on weekdays.\n",
    "Please guess what the events are and give ideas consider weather and keep it short. \n",
    "Format nicely with line breaks after roughly 50 characters.\n",
    "\"\"\""
   ]
  },
  {
   "cell_type": "code",
   "execution_count": 32,
   "metadata": {},
   "outputs": [
    {
     "name": "stdout",
     "output_type": "stream",
     "text": [
      "**Next 3 Days in Berlin (Feb 5th - Feb 7th, 2025):**\n",
      "\n",
      "**February 5th (Today):**\n",
      "\n",
      "*   **Tasks:**  Plan picking up the children from Alexandra, clean the washing machine (video link provided), and prepare for tomorrow's DKB interview.\n",
      "\n",
      "*   **Preparation:** Review your  product owner experience and expectations for the DKB interview.  Expect a potentially cold day in Berlin; dress warmly.\n",
      "\n",
      "<br>\n",
      "\n",
      "**February 6th (Thursday):**\n",
      "\n",
      "*   **Event:** DKB Interview (11:30 AM - 12:30 PM).\n",
      "\n",
      "*   **Preparation:**  Arrive 15 minutes early.  Dress professionally. Review your portfolio and prepare answers about your PO experience. Check the weather and dress accordingly.\n",
      "\n",
      "\n",
      "<br>\n",
      "\n",
      "**February 7th (Friday):**\n",
      "\n",
      "*   **Tasks:** Watch \"Prodigy\" if you have time. Continue working on your long-term tasks like the real estate decision and finding a new energy provider.\n",
      "\n",
      "*   **Preparation:**  It is a work day.  No major events are scheduled. The weather in Berlin might still be cold.\n",
      "\n",
      "\n",
      "<br>\n",
      "\n",
      "**Ongoing Tasks (No Due Date):**\n",
      "\n",
      "*   Find out when the Bar1000 serves food.\n",
      "*   Plan a trip to Vabali Spa.\n",
      "*   Get an FSME and Tdap vaccine booster.\n",
      "*   Find wall mounting solutions for your parents.\n",
      "*   Request a certificate of employment from Klarna.\n",
      "*   Wash your Lego.\n",
      "\n",
      "\n",
      "**Note:**  The \"Alexander Kroschwald and Lisette Fabian\" event is scheduled for February 11th (21:00 America/Chicago which translates to 04:00 February 12th CET, the next day) and the other interview is on the 10th. The \"Saskia Vola birthday blocker\" is a multi-day event, but you've already noted it, hence no further action is needed.  The hairdresser appointment is on February 21st.  The FIFA events are on February 24th.\n",
      "\n"
     ]
    }
   ],
   "source": [
    "response = model.generate_content(promt + str(events) + str(tasks))\n",
    "print(response.text)\n"
   ]
  },
  {
   "cell_type": "code",
   "execution_count": 3,
   "metadata": {},
   "outputs": [
    {
     "name": "stdout",
     "output_type": "stream",
     "text": [
      "200 {\"id\":\"<20250131152828.78524ba0af795b8d@sandbox4cbef2d2ae6e49718f8e85282978fa0a.mailgun.org>\",\"message\":\"Queued. Thank you.\"}\n",
      "\n"
     ]
    }
   ],
   "source": [
    "response = requests.post(\n",
    "  \t\t\"https://api.mailgun.net/v3/sandbox4cbef2d2ae6e49718f8e85282978fa0a.mailgun.org/messages\",\n",
    "  \t\tauth=(\"api\", os.getenv('e895355012bce4e64d9bd22af5bb4eb6-d8df908e-0e94ca66', 'e895355012bce4e64d9bd22af5bb4eb6-d8df908e-0e94ca66')),\n",
    "  \t\tdata={\"from\": \"Mailgun Sandbox <postmaster@sandbox4cbef2d2ae6e49718f8e85282978fa0a.mailgun.org>\",\n",
    "\t\t\t\"to\": \"Alexander Kroschwald <alexander.eck@gmail.com>\",\n",
    "  \t\t\t\"subject\": \"Hello Alexander Kroschwald\",\n",
    "  \t\t\t\"text\": \"Congratulations Alexander Kroschwald, you just sent an email with Mailgun! You are truly awesome!\"})\n",
    "\n",
    "print(response.status_code, response.text) "
   ]
  },
  {
   "cell_type": "code",
   "execution_count": null,
   "metadata": {},
   "outputs": [],
   "source": []
  }
 ],
 "metadata": {
  "kernelspec": {
   "display_name": "Python 3",
   "language": "python",
   "name": "python3"
  },
  "language_info": {
   "codemirror_mode": {
    "name": "ipython",
    "version": 3
   },
   "file_extension": ".py",
   "mimetype": "text/x-python",
   "name": "python",
   "nbconvert_exporter": "python",
   "pygments_lexer": "ipython3",
   "version": "3.12.6"
  }
 },
 "nbformat": 4,
 "nbformat_minor": 2
}
